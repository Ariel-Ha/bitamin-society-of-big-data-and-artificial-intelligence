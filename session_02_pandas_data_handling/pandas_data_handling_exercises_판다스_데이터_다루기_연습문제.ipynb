{
  "nbformat": 4,
  "nbformat_minor": 0,
  "metadata": {
    "colab": {
      "name": "pandas_data_handling_exercises_판다스_데이터_다루기_연습문제.ipynb",
      "provenance": [],
      "include_colab_link": true
    },
    "kernelspec": {
      "name": "python3",
      "display_name": "Python 3"
    },
    "language_info": {
      "name": "python"
    }
  },
  "cells": [
    {
      "cell_type": "markdown",
      "metadata": {
        "id": "view-in-github",
        "colab_type": "text"
      },
      "source": [
        "<a href=\"https://colab.research.google.com/github/YeonJin55/bitamin-society-of-big-data-and-artificial-intelligence/blob/main/pandas_data_handling_exercises_%ED%8C%90%EB%8B%A4%EC%8A%A4_%EB%8D%B0%EC%9D%B4%ED%84%B0_%EB%8B%A4%EB%A3%A8%EA%B8%B0_%EC%97%B0%EC%8A%B5%EB%AC%B8%EC%A0%9C.ipynb\" target=\"_parent\"><img src=\"https://colab.research.google.com/assets/colab-badge.svg\" alt=\"Open In Colab\"/></a>"
      ]
    },
    {
      "cell_type": "code",
      "execution_count": null,
      "metadata": {
        "id": "OtbBK1fjJTAJ"
      },
      "outputs": [],
      "source": [
        "import pandas as pd\n",
        "import numpy as np\n",
        "import seaborn as sns # 시각화를 위한 라이브러리\n",
        "import matplotlib.pyplot as plt\n",
        "import calendar\n",
        "from datetime import datetime"
      ]
    },
    {
      "cell_type": "markdown",
      "source": [
        "#Part 1. 파이썬 기본\n",
        "사용 데이터셋 :  https://www.kaggle.com/c/bike-sharing-demand/data\n"
      ],
      "metadata": {
        "id": "8AAsGL6ZLgvP"
      }
    },
    {
      "cell_type": "code",
      "source": [
        "#colab에 실습(train.csv) 파일 업로드\n",
        "from google.colab import files\n",
        "import io\n",
        "train_data=files.upload()\n",
        "train=pd.read_csv(io.BytesIO(train_data[\"train.csv\"]))"
      ],
      "metadata": {
        "id": "MRFXITxmL6Kr"
      },
      "execution_count": null,
      "outputs": []
    },
    {
      "cell_type": "markdown",
      "source": [
        "### [1-1] \n",
        "datetime 열을 년-월-일, 시간 이렇게 분리해서 새로운 tempDate 라는 이름의 열을 만들어주세요.\n",
        "* ex) 2011-01-01 00:00:00  ->  2011-01-01 , 00:00:00\t"
      ],
      "metadata": {
        "id": "dlfA5gGYJylE"
      }
    },
    {
      "cell_type": "code",
      "source": [
        "#datetime 열을, 년-월-일, 시간 분리\n",
        "train['tempDate']=\n",
        "train['tempDate']"
      ],
      "metadata": {
        "id": "0QOEea3EJzP1"
      },
      "execution_count": null,
      "outputs": []
    },
    {
      "cell_type": "markdown",
      "source": [
        "### [1-2] \n",
        "1-1에서 분리한 tempDate열을 가지고, train 데이터에 year, month, day, weekday 열을 추가해주세요."
      ],
      "metadata": {
        "id": "XrAQgontJ0vI"
      }
    },
    {
      "cell_type": "code",
      "source": [
        "#분리한 tempDate를 가지고 year, month, day, weekday column 추가\n",
        "train['year']=\n",
        "train['month']=\n",
        "train['day']=\n",
        "train['weekday']=\n",
        "train['hour']="
      ],
      "metadata": {
        "id": "0-DWoc4zJ4yb"
      },
      "execution_count": null,
      "outputs": []
    },
    {
      "cell_type": "markdown",
      "source": [
        "### [1-3] \n",
        "1-2에서 만든 year, month, day, hour의 문자형 데이터를 숫자형 데이터로 변환해주세요."
      ],
      "metadata": {
        "id": "kKRShZYDJ6c9"
      }
    },
    {
      "cell_type": "code",
      "source": [
        "#분리한 형태의 문자형 데이터를 숫자형 데이터로 변환\n",
        "train['year']=\n",
        "train['month']=\n",
        "train['day']=\n",
        "train['hour']="
      ],
      "metadata": {
        "id": "529IgJ4gJ8Y9"
      },
      "execution_count": null,
      "outputs": []
    },
    {
      "cell_type": "markdown",
      "source": [
        "### [1-4] \n",
        "이제, 필요없는 tempDate 열을 삭제해 주시고, train.csv을 위에서부터 5행 출력해주세요."
      ],
      "metadata": {
        "id": "4SlvngzSJ90O"
      }
    },
    {
      "cell_type": "code",
      "source": [
        "#필요없는 tempDate열 삭제 후, train을 위에서부터 5행 출력"
      ],
      "metadata": {
        "id": "tgD3muyeKABM"
      },
      "execution_count": null,
      "outputs": []
    },
    {
      "cell_type": "markdown",
      "source": [
        "### [1-5] \n",
        "월별로 count를 내림차순 정렬해 주세요."
      ],
      "metadata": {
        "id": "G54UFKF6KDvI"
      }
    },
    {
      "cell_type": "code",
      "source": [
        "#월별로 count 내림차순 정렬"
      ],
      "metadata": {
        "id": "zCPIV_1EKEEt"
      },
      "execution_count": null,
      "outputs": []
    },
    {
      "cell_type": "markdown",
      "source": [
        "### [1-6] \n",
        "1-5를 통해, 6월에 count가 가장 많은 것을 확인할 수 있었습니다! 6월 데이터만 추출하여, June 변수에 저장해주세요."
      ],
      "metadata": {
        "id": "Fz9VI7unKF8M"
      }
    },
    {
      "cell_type": "code",
      "source": [
        "#6월 데이터만 추출하여 June 변수에 저장\n",
        "June=\n",
        "June"
      ],
      "metadata": {
        "id": "-IQqnwD-KBxU"
      },
      "execution_count": null,
      "outputs": []
    },
    {
      "cell_type": "markdown",
      "source": [
        "### [1-7]\n",
        "6월달 중 가장 count가 많은 날짜(day)를 내림차순으로 정렬해주세요."
      ],
      "metadata": {
        "id": "HlcMTm3aKJVK"
      }
    },
    {
      "cell_type": "code",
      "source": [
        "# 6월달 중 가장 count가 많은 날짜 파악"
      ],
      "metadata": {
        "id": "1b3I3pknKLhY"
      },
      "execution_count": null,
      "outputs": []
    }
  ]
}
